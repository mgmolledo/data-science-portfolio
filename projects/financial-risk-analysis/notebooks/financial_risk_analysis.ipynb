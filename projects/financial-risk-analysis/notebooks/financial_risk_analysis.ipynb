{
  "cells": [
    {
      "cell_type": "markdown",
      "metadata": {},
      "source": [
        "# Financial Risk Analysis - Executive Dashboard\n",
        "\n",
        "## Executive Summary\n",
        "This notebook demonstrates advanced financial risk analysis using real-world bankruptcy prediction data. The analysis combines executive business acumen with modern data science techniques to provide actionable insights for investment and lending decisions.\n",
        "\n",
        "## Dataset Overview\n",
        "- **Source**: Kaggle - Company Bankruptcy Prediction Dataset\n",
        "- **Data**: Real financial data from Taiwanese companies (1999-2009)\n",
        "- **Companies**: 6,819 companies with complete financial records\n",
        "- **Features**: 95 financial indicators per company\n",
        "- **Target**: Binary classification (Bankrupt vs Non-bankrupt)\n"
      ]
    }
  ],
  "metadata": {
    "language_info": {
      "name": "python"
    }
  },
  "nbformat": 4,
  "nbformat_minor": 2
}
