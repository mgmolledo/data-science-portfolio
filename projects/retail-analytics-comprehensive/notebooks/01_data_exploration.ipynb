{
  "cells": [
    {
      "cell_type": "markdown",
      "metadata": {},
      "source": [
        "# Retail Analytics - Comprehensive Data Exploration\n",
        "\n",
        "## Executive Summary\n",
        "\n",
        "This notebook demonstrates **professional-grade exploratory data analysis** for retail analytics, showcasing advanced visualization techniques, statistical analysis, and business insights generation.\n",
        "\n",
        "## Business Context\n",
        "\n",
        "**Industry**: Retail & E-commerce  \n",
        "**Dataset**: Multi-channel retail sales data  \n",
        "**Objective**: Comprehensive customer and sales analysis  \n",
        "**Stakeholders**: C-level executives, marketing, operations teams  \n",
        "\n",
        "## Analysis Framework\n",
        "\n",
        "This analysis follows the **complete data science lifecycle**:\n",
        "1. **Data Understanding**: Structure, quality, and business context\n",
        "2. **Statistical Analysis**: Descriptive statistics and distributions\n",
        "3. **Visualization**: Advanced charts and interactive plots\n",
        "4. **Pattern Discovery**: Trends, seasonality, and correlations\n",
        "5. **Business Insights**: Actionable recommendations for executives\n",
        "\n",
        "---\n",
        "\n",
        "**Author**: Manuel García Molledo  \n",
        "**Date**: 2025  \n",
        "**Tools**: Python, Pandas, Matplotlib, Seaborn, Plotly  \n",
        "**Methodology**: Professional EDA with executive focus\n"
      ]
    },
    {
      "cell_type": "code",
      "execution_count": null,
      "metadata": {},
      "outputs": [],
      "source": [
        "# Import required libraries\n",
        "import pandas as pd\n",
        "import numpy as np\n",
        "import matplotlib.pyplot as plt\n",
        "import seaborn as sns\n",
        "import plotly.express as px\n",
        "import plotly.graph_objects as go\n",
        "from plotly.subplots import make_subplots\n",
        "import warnings\n",
        "warnings.filterwarnings('ignore')\n",
        "\n",
        "# Set professional styling\n",
        "plt.style.use('seaborn-v0_8')\n",
        "sns.set_palette(\"husl\")\n",
        "plt.rcParams['figure.figsize'] = (12, 8)\n",
        "plt.rcParams['font.size'] = 12\n",
        "\n",
        "# Configure pandas display options\n",
        "pd.set_option('display.max_columns', None)\n",
        "pd.set_option('display.max_rows', 100)\n",
        "pd.set_option('display.float_format', '{:.2f}'.format)\n",
        "\n",
        "print(\"📊 Professional Data Analysis Environment Initialized\")\n",
        "print(\"=\" * 60)\n",
        "print(\"🔧 Libraries Loaded:\")\n",
        "print(\"   ✅ Pandas - Data manipulation and analysis\")\n",
        "print(\"   ✅ NumPy - Numerical computing\")\n",
        "print(\"   ✅ Matplotlib - Static visualizations\")\n",
        "print(\"   ✅ Seaborn - Statistical visualizations\")\n",
        "print(\"   ✅ Plotly - Interactive visualizations\")\n",
        "print(\"   ✅ Professional styling configured\")\n",
        "print(\"=\" * 60)\n"
      ]
    },
    {
      "cell_type": "code",
      "execution_count": null,
      "metadata": {},
      "outputs": [],
      "source": [
        "# Load the professional analytics framework\n",
        "import sys\n",
        "sys.path.append('../src')\n",
        "\n",
        "from analytics_framework import ProfessionalAnalyzer, demonstrate_framework\n",
        "\n",
        "# Initialize the professional analyzer\n",
        "analyzer = ProfessionalAnalyzer(\n",
        "    project_name=\"Retail Analytics Comprehensive\",\n",
        "    business_context=\"Multi-channel retail sales analysis for executive decision making\"\n",
        ")\n",
        "\n",
        "print(\"🚀 Professional Data Analytics Framework Initialized\")\n",
        "print(\"=\" * 80)\n",
        "print(\"📊 This framework ensures consistent, comprehensive analysis across all projects\")\n",
        "print(\"🎯 Demonstrates mastery of the complete data analytics ecosystem\")\n",
        "print(\"=\" * 80)\n"
      ]
    },
    {
      "cell_type": "code",
      "execution_count": null,
      "metadata": {},
      "outputs": [],
      "source": [
        "# Load the realistic retail data\n",
        "import pandas as pd\n",
        "import numpy as np\n",
        "\n",
        "# Load datasets\n",
        "customers_df = pd.read_csv('data/raw/customers.csv')\n",
        "products_df = pd.read_csv('data/raw/products.csv')\n",
        "transactions_df = pd.read_csv('data/raw/transactions.csv')\n",
        "promotions_df = pd.read_csv('data/raw/promotions.csv')\n",
        "\n",
        "# Convert date columns\n",
        "customers_df['registration_date'] = pd.to_datetime(customers_df['registration_date'])\n",
        "transactions_df['transaction_date'] = pd.to_datetime(transactions_df['transaction_date'])\n",
        "products_df['launch_date'] = pd.to_datetime(products_df['launch_date'])\n",
        "promotions_df['start_date'] = pd.to_datetime(promotions_df['start_date'])\n",
        "promotions_df['end_date'] = pd.to_datetime(promotions_df['end_date'])\n",
        "\n",
        "print(\"📊 Realistic Retail Data Loaded Successfully!\")\n",
        "print(\"=\" * 60)\n",
        "print(f\"👥 Customers: {len(customers_df):,}\")\n",
        "print(f\"📦 Products: {len(products_df):,}\")\n",
        "print(f\"💳 Transactions: {len(transactions_df):,}\")\n",
        "print(f\"🎯 Promotions: {len(promotions_df):,}\")\n",
        "print(f\"💰 Total Revenue: ${transactions_df['total_amount'].sum():,.2f}\")\n",
        "print(f\"📈 Average Order Value: ${transactions_df['total_amount'].mean():.2f}\")\n",
        "print(\"=\" * 60)\n"
      ]
    },
    {
      "cell_type": "code",
      "execution_count": null,
      "metadata": {},
      "outputs": [],
      "source": [
        "# Apply Professional Analytics Framework\n",
        "# 1. Data Quality Assessment\n",
        "analyzer.data_quality_assessment(customers_df, \"Customers\")\n",
        "analyzer.data_quality_assessment(products_df, \"Products\")\n",
        "analyzer.data_quality_assessment(transactions_df, \"Transactions\")\n",
        "analyzer.data_quality_assessment(promotions_df, \"Promotions\")\n"
      ]
    },
    {
      "cell_type": "code",
      "execution_count": null,
      "metadata": {},
      "outputs": [],
      "source": [
        "# 2. Statistical Analysis\n",
        "analyzer.statistical_summary(customers_df, \"Customers\")\n",
        "analyzer.statistical_summary(products_df, \"Products\")\n",
        "analyzer.statistical_summary(transactions_df, \"Transactions\")\n"
      ]
    },
    {
      "cell_type": "code",
      "execution_count": null,
      "metadata": {},
      "outputs": [],
      "source": [
        "# 3. Professional Visualizations\n",
        "analyzer.create_professional_visualizations(customers_df, \"Customers\")\n",
        "analyzer.create_professional_visualizations(products_df, \"Products\")\n",
        "analyzer.create_professional_visualizations(transactions_df, \"Transactions\")\n"
      ]
    },
    {
      "cell_type": "code",
      "execution_count": null,
      "metadata": {},
      "outputs": [],
      "source": [
        "# 4. Business Insights and Recommendations\n",
        "analyzer.generate_business_insights(customers_df, \"Customers\")\n",
        "analyzer.generate_business_insights(products_df, \"Products\")\n",
        "analyzer.generate_business_insights(transactions_df, \"Transactions\")\n",
        "\n",
        "analyzer.generate_recommendations(customers_df, \"Customers\")\n",
        "analyzer.generate_recommendations(products_df, \"Products\")\n",
        "analyzer.generate_recommendations(transactions_df, \"Transactions\")\n"
      ]
    },
    {
      "cell_type": "code",
      "execution_count": null,
      "metadata": {},
      "outputs": [],
      "source": [
        "# 5. Executive Summary\n",
        "analyzer.create_executive_summary()\n"
      ]
    },
    {
      "cell_type": "markdown",
      "metadata": {},
      "source": []
    }
  ],
  "metadata": {
    "language_info": {
      "name": "python"
    }
  },
  "nbformat": 4,
  "nbformat_minor": 2
}
